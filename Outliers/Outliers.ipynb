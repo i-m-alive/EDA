{
 "cells": [
  {
   "cell_type": "markdown",
   "id": "8dd3a189-1c2b-4831-b498-16824469114e",
   "metadata": {},
   "source": [
    "# Outlier Treatment"
   ]
  },
  {
   "cell_type": "markdown",
   "id": "49ace2a2-d0f8-4873-96b2-666510ec30ca",
   "metadata": {},
   "source": [
    "What are outliers?\n",
    "- Outliers are the most extreams values in the data. It is an abnormal obserbations that deviate form the norm.\n",
    "Outliers do not fit in the normal behaviour of the data."
   ]
  },
  {
   "cell_type": "markdown",
   "id": "3d68329c-3f49-4771-9690-5f9d3bf0f083",
   "metadata": {},
   "source": [
    "Detect Outliers using following methods\n",
    "1. Boxplot\n",
    "2. Histogram\n",
    "3. Scatter plot\n",
    "4. Z-score\n",
    "5. Inter Quartile range (values out of 1.5 time of IQR)"
   ]
  },
  {
   "cell_type": "markdown",
   "id": "a52791ae-0c06-40d3-bf81-45d9d87a022e",
   "metadata": {},
   "source": [
    "#####  Boxplot\n",
    "   \n",
    "![Boxplot](box_plot.png)\n"
   ]
  },
  {
   "cell_type": "markdown",
   "id": "fcbd241d-7dc6-4a3b-b382-70aa234a6795",
   "metadata": {},
   "source": [
    "### 2.Histogram\n",
    "\n",
    "![](histogram_outlier.png)"
   ]
  },
  {
   "cell_type": "markdown",
   "id": "3214c7e7-8e43-4ff1-979f-2380861fadf2",
   "metadata": {},
   "source": [
    "### 3. Scatter plot\n",
    "\n",
    "![](Scatterplot.png)"
   ]
  },
  {
   "cell_type": "markdown",
   "id": "27407739-ecb1-44de-9f4f-a3e050903449",
   "metadata": {},
   "source": [
    "### 4. Z-score\n",
    "![](zscore.png)"
   ]
  },
  {
   "cell_type": "markdown",
   "id": "111b2b4c-f110-42f1-a6a8-dfa2d15c4872",
   "metadata": {},
   "source": [
    "### Handle Outlier using Following methods\n",
    "1. Remove the outliers.\n",
    "2. Replace outlier with suitable values by using following methods:-\n",
    "   - Quantile method\n",
    "   - Inter quartile range\n",
    "3. Use that ML model which are not sensitive to outilers\n",
    "4. Like:- KNN, Decision Tree, SVM, Naive Bayes, Ensemble Methods"
   ]
  },
  {
   "cell_type": "markdown",
   "id": "1e79777d-f8f5-40f8-9237-d051230960d2",
   "metadata": {},
   "source": [
    "### 3-Sigma Technique (Standard Deviation)"
   ]
  },
  {
   "cell_type": "code",
   "execution_count": 131,
   "id": "c4154a8e-9ec2-4799-b2b4-24af831e3b87",
   "metadata": {},
   "outputs": [],
   "source": [
    "import numpy as np\n",
    "import matplotlib.pyplot as plt\n",
    "import statistics \n",
    "import pandas as pd"
   ]
  },
  {
   "cell_type": "code",
   "execution_count": 146,
   "id": "923db329-a5ff-438e-b5e2-d33c6d5857fd",
   "metadata": {},
   "outputs": [],
   "source": [
    "data=pd.read_csv(\"Balaji Fast Food Sales.csv\")"
   ]
  },
  {
   "cell_type": "code",
   "execution_count": 147,
   "id": "86d4745c-807a-42af-837c-d3000c9cb3f7",
   "metadata": {},
   "outputs": [
    {
     "data": {
      "text/html": [
       "<div>\n",
       "<style scoped>\n",
       "    .dataframe tbody tr th:only-of-type {\n",
       "        vertical-align: middle;\n",
       "    }\n",
       "\n",
       "    .dataframe tbody tr th {\n",
       "        vertical-align: top;\n",
       "    }\n",
       "\n",
       "    .dataframe thead th {\n",
       "        text-align: right;\n",
       "    }\n",
       "</style>\n",
       "<table border=\"1\" class=\"dataframe\">\n",
       "  <thead>\n",
       "    <tr style=\"text-align: right;\">\n",
       "      <th></th>\n",
       "      <th>order_id</th>\n",
       "      <th>date</th>\n",
       "      <th>item_name</th>\n",
       "      <th>item_type</th>\n",
       "      <th>item_price</th>\n",
       "      <th>quantity</th>\n",
       "      <th>transaction_amount</th>\n",
       "      <th>transaction_type</th>\n",
       "      <th>received_by</th>\n",
       "      <th>time_of_sale</th>\n",
       "    </tr>\n",
       "  </thead>\n",
       "  <tbody>\n",
       "    <tr>\n",
       "      <th>0</th>\n",
       "      <td>1</td>\n",
       "      <td>07-03-2022</td>\n",
       "      <td>Aalopuri</td>\n",
       "      <td>Fastfood</td>\n",
       "      <td>20</td>\n",
       "      <td>13</td>\n",
       "      <td>260</td>\n",
       "      <td>NaN</td>\n",
       "      <td>Mr.</td>\n",
       "      <td>Night</td>\n",
       "    </tr>\n",
       "    <tr>\n",
       "      <th>1</th>\n",
       "      <td>2</td>\n",
       "      <td>8/23/2022</td>\n",
       "      <td>Vadapav</td>\n",
       "      <td>Fastfood</td>\n",
       "      <td>20</td>\n",
       "      <td>15</td>\n",
       "      <td>300</td>\n",
       "      <td>Cash</td>\n",
       "      <td>Mr.</td>\n",
       "      <td>Afternoon</td>\n",
       "    </tr>\n",
       "    <tr>\n",
       "      <th>2</th>\n",
       "      <td>3</td>\n",
       "      <td>11/20/2022</td>\n",
       "      <td>Vadapav</td>\n",
       "      <td>Fastfood</td>\n",
       "      <td>20</td>\n",
       "      <td>1</td>\n",
       "      <td>20</td>\n",
       "      <td>Cash</td>\n",
       "      <td>Mr.</td>\n",
       "      <td>Afternoon</td>\n",
       "    </tr>\n",
       "    <tr>\n",
       "      <th>3</th>\n",
       "      <td>4</td>\n",
       "      <td>02-03-2023</td>\n",
       "      <td>Sugarcane juice</td>\n",
       "      <td>Beverages</td>\n",
       "      <td>25</td>\n",
       "      <td>6</td>\n",
       "      <td>150</td>\n",
       "      <td>Online</td>\n",
       "      <td>Mr.</td>\n",
       "      <td>Night</td>\n",
       "    </tr>\n",
       "    <tr>\n",
       "      <th>4</th>\n",
       "      <td>5</td>\n",
       "      <td>10-02-2022</td>\n",
       "      <td>Sugarcane juice</td>\n",
       "      <td>Beverages</td>\n",
       "      <td>25</td>\n",
       "      <td>8</td>\n",
       "      <td>200</td>\n",
       "      <td>Online</td>\n",
       "      <td>Mr.</td>\n",
       "      <td>Evening</td>\n",
       "    </tr>\n",
       "  </tbody>\n",
       "</table>\n",
       "</div>"
      ],
      "text/plain": [
       "   order_id        date        item_name  item_type  item_price  quantity  \\\n",
       "0         1  07-03-2022         Aalopuri   Fastfood          20        13   \n",
       "1         2   8/23/2022          Vadapav   Fastfood          20        15   \n",
       "2         3  11/20/2022          Vadapav   Fastfood          20         1   \n",
       "3         4  02-03-2023  Sugarcane juice  Beverages          25         6   \n",
       "4         5  10-02-2022  Sugarcane juice  Beverages          25         8   \n",
       "\n",
       "   transaction_amount transaction_type received_by time_of_sale  \n",
       "0                 260              NaN         Mr.        Night  \n",
       "1                 300             Cash         Mr.    Afternoon  \n",
       "2                  20             Cash         Mr.    Afternoon  \n",
       "3                 150           Online         Mr.        Night  \n",
       "4                 200           Online         Mr.      Evening  "
      ]
     },
     "execution_count": 147,
     "metadata": {},
     "output_type": "execute_result"
    }
   ],
   "source": [
    "data.head()"
   ]
  },
  {
   "cell_type": "code",
   "execution_count": 134,
   "id": "0e191311-c070-4fbf-be10-1897f433379a",
   "metadata": {},
   "outputs": [
    {
     "data": {
      "text/plain": [
       "pandas.core.frame.DataFrame"
      ]
     },
     "execution_count": 134,
     "metadata": {},
     "output_type": "execute_result"
    }
   ],
   "source": [
    "type(data)"
   ]
  },
  {
   "cell_type": "code",
   "execution_count": 135,
   "id": "77e4d0fd-97c5-4403-85da-e34ac64824ae",
   "metadata": {},
   "outputs": [
    {
     "name": "stdout",
     "output_type": "stream",
     "text": [
      "<class 'pandas.core.frame.DataFrame'>\n",
      "RangeIndex: 1000 entries, 0 to 999\n",
      "Data columns (total 11 columns):\n",
      " #   Column          Non-Null Count  Dtype  \n",
      "---  ------          --------------  -----  \n",
      " 0   TransactionID   1000 non-null   object \n",
      " 1   Date            1000 non-null   object \n",
      " 2   MobileModel     1000 non-null   object \n",
      " 3   Brand           1000 non-null   object \n",
      " 4   Price           1000 non-null   float64\n",
      " 5   UnitsSold       1000 non-null   int64  \n",
      " 6   TotalRevenue    1000 non-null   float64\n",
      " 7   CustomerAge     1000 non-null   int64  \n",
      " 8   CustomerGender  1000 non-null   object \n",
      " 9   Location        1000 non-null   object \n",
      " 10  PaymentMethod   1000 non-null   object \n",
      "dtypes: float64(2), int64(2), object(7)\n",
      "memory usage: 86.1+ KB\n"
     ]
    }
   ],
   "source": [
    "data.info()"
   ]
  },
  {
   "cell_type": "code",
   "execution_count": 136,
   "id": "6f4b458e-0a16-433f-ad49-786d8b481b81",
   "metadata": {},
   "outputs": [],
   "source": [
    "# Function to Detection Outlier on one-dimentional datasets.\n",
    "def find_anomalies(data):\n",
    "    #define a list to accumlate anomalies\n",
    "    anomalies = []\n",
    "    \n",
    "    # Set upper and lower limit to 3 standard deviation\n",
    "    random_data_std = statistics.stdev(data)\n",
    "    random_data_mean = statistics.mean(data)\n",
    "    # 3-standard deviation\n",
    "    \n",
    "    anomaly_cut_off = random_data_std * 3\n",
    "    \n",
    "    lower_limit  = random_data_mean - anomaly_cut_off \n",
    "    upper_limit = random_data_mean + anomaly_cut_off\n",
    "    \n",
    "    # Generate outliers\n",
    "    for outlier in data:\n",
    "        if outlier > upper_limit or outlier < lower_limit:\n",
    "            anomalies.append(outlier)\n",
    "    print(anomalies)\n",
    "    return anomalies"
   ]
  },
  {
   "cell_type": "code",
   "execution_count": 167,
   "id": "c49f5622-72a4-41ca-a71d-57555bceb99b",
   "metadata": {},
   "outputs": [
    {
     "name": "stdout",
     "output_type": "stream",
     "text": [
      "204.4029786418918 275.23\n"
     ]
    }
   ],
   "source": [
    "random_data_std = statistics.stdev(data['transaction_amount'])\n",
    "random_data_mean = statistics.mean(data['transaction_amount'])\n",
    "print(random_data_std,random_data_mean)"
   ]
  },
  {
   "cell_type": "code",
   "execution_count": 168,
   "id": "89dd555c-b36f-497e-a1ab-7c2be646d546",
   "metadata": {},
   "outputs": [
    {
     "name": "stdout",
     "output_type": "stream",
     "text": [
      "[900, 900, 900, 900, 900, 900, 900, 900, 900, 900, 900, 900, 900, 900]\n"
     ]
    }
   ],
   "source": [
    "list_1 = find_anomalies(data['transaction_amount'])"
   ]
  },
  {
   "cell_type": "code",
   "execution_count": 150,
   "id": "dd4aba88-d891-4e78-b0d1-e91ba06acf31",
   "metadata": {},
   "outputs": [
    {
     "name": "stdout",
     "output_type": "stream",
     "text": [
      "14\n"
     ]
    }
   ],
   "source": [
    "print(len(list_1))"
   ]
  },
  {
   "cell_type": "code",
   "execution_count": 151,
   "id": "5e1a6215-9876-4ab0-9592-7e02ee151039",
   "metadata": {},
   "outputs": [
    {
     "name": "stdout",
     "output_type": "stream",
     "text": [
      "1000\n"
     ]
    }
   ],
   "source": [
    "print(len(data))"
   ]
  },
  {
   "cell_type": "code",
   "execution_count": 153,
   "id": "a1444db5-9295-4f35-b6fb-60bdb8ba7c3d",
   "metadata": {},
   "outputs": [
    {
     "data": {
      "text/plain": [
       "1.052643178230624"
      ]
     },
     "execution_count": 153,
     "metadata": {},
     "output_type": "execute_result"
    }
   ],
   "source": [
    "data.transaction_amount.skew()"
   ]
  },
  {
   "cell_type": "code",
   "execution_count": 154,
   "id": "1df03e99-8d71-4478-8d1f-b32e1b96224e",
   "metadata": {},
   "outputs": [],
   "source": [
    "import seaborn as sns"
   ]
  },
  {
   "cell_type": "code",
   "execution_count": 156,
   "id": "a100d115-a036-46c6-bb13-7f72c4973b0c",
   "metadata": {},
   "outputs": [
    {
     "data": {
      "text/plain": [
       "<Axes: xlabel='transaction_amount', ylabel='Density'>"
      ]
     },
     "execution_count": 156,
     "metadata": {},
     "output_type": "execute_result"
    },
    {
     "data": {
      "image/png": "[encoded data removed]",
      "text/plain": [
       "<Figure size 640x480 with 1 Axes>"
      ]
     },
     "metadata": {},
     "output_type": "display_data"
    }
   ],
   "source": [
    "sns.kdeplot(data.transaction_amount)"
   ]
  },
  {
   "cell_type": "code",
   "execution_count": 157,
   "id": "dd7ac834-4975-4157-a524-a035c6f6e5bb",
   "metadata": {},
   "outputs": [],
   "source": [
    "data['transformed_transaction_amount'] = np.log(data.transaction_amount)"
   ]
  },
  {
   "cell_type": "code",
   "execution_count": 158,
   "id": "c5da5cd9-c4aa-402e-bf29-3108c04d3849",
   "metadata": {},
   "outputs": [
    {
     "data": {
      "text/plain": [
       "-0.6892402994768292"
      ]
     },
     "execution_count": 158,
     "metadata": {},
     "output_type": "execute_result"
    }
   ],
   "source": [
    "data['transformed_transaction_amount'].skew()"
   ]
  },
  {
   "cell_type": "code",
   "execution_count": 159,
   "id": "3702d952-6126-4dc5-94ee-3f2bdbb92025",
   "metadata": {},
   "outputs": [
    {
     "name": "stdout",
     "output_type": "stream",
     "text": [
      "[]\n"
     ]
    }
   ],
   "source": [
    "list_2 = find_anomalies(data.transformed_transaction_amount)"
   ]
  },
  {
   "cell_type": "code",
   "execution_count": 160,
   "id": "2c2700f7-85a8-47b2-8acb-5ac7d2fa74da",
   "metadata": {},
   "outputs": [],
   "source": [
    "data['double_transformed_transaction_amount'] = np.log(data.transformed_transaction_amount)"
   ]
  },
  {
   "cell_type": "code",
   "execution_count": 161,
   "id": "a408128e-61bb-42b8-a1da-ce57773d4a5d",
   "metadata": {},
   "outputs": [
    {
     "data": {
      "text/plain": [
       "-1.126486193189751"
      ]
     },
     "execution_count": 161,
     "metadata": {},
     "output_type": "execute_result"
    }
   ],
   "source": [
    "data['double_transformed_transaction_amount'].skew()"
   ]
  },
  {
   "cell_type": "code",
   "execution_count": 162,
   "id": "c46964a1-725d-4e3b-a39d-7dcf5103c489",
   "metadata": {},
   "outputs": [
    {
     "name": "stdout",
     "output_type": "stream",
     "text": [
      "[]\n"
     ]
    }
   ],
   "source": [
    "list_2 = find_anomalies(data.double_transformed_transaction_amount)"
   ]
  },
  {
   "cell_type": "code",
   "execution_count": 163,
   "id": "a490987d-502f-4b44-8abc-cf9085734d90",
   "metadata": {},
   "outputs": [
    {
     "data": {
      "text/plain": [
       "<Axes: xlabel='double_transformed_transaction_amount', ylabel='Density'>"
      ]
     },
     "execution_count": 163,
     "metadata": {},
     "output_type": "execute_result"
    },
    {
     "data": {
      "image/png": "[encoded data removed]",
      "text/plain": [
       "<Figure size 640x480 with 1 Axes>"
      ]
     },
     "metadata": {},
     "output_type": "display_data"
    }
   ],
   "source": [
    "sns.kdeplot(data.double_transformed_transaction_amount)"
   ]
  },
  {
   "cell_type": "markdown",
   "id": "7599540c-5ae8-447a-bc06-80b9e9169b1e",
   "metadata": {},
   "source": [
    "###  Boxplots"
   ]
  },
  {
   "cell_type": "code",
   "execution_count": 164,
   "id": "f0d19868-21f1-4050-9563-16ae14c1797d",
   "metadata": {},
   "outputs": [
    {
     "data": {
      "text/plain": [
       "<Axes: >"
      ]
     },
     "execution_count": 164,
     "metadata": {},
     "output_type": "execute_result"
    },
    {
     "data": {
      "image/png": "[encoded data removed]",
      "text/plain": [
       "<Figure size 640x480 with 1 Axes>"
      ]
     },
     "metadata": {},
     "output_type": "display_data"
    }
   ],
   "source": [
    "import seaborn as sns\n",
    "sns.boxplot(data=data)"
   ]
  },
  {
   "cell_type": "markdown",
   "id": "49865950-23a3-4a4d-b35e-29cb08a03655",
   "metadata": {},
   "source": [
    "### Inter Quartile Range\n",
    "#### IQR=Q3-Q1"
   ]
  },
  {
   "cell_type": "code",
   "execution_count": 170,
   "id": "a19f7dbe-deac-402e-b818-f4e3834ee4c1",
   "metadata": {},
   "outputs": [],
   "source": [
    "list1 = [43, 54, 56, 61, 62, 66, 68, 69, 69, 70, 71, 72, 77, 78, 79, 85, 87, 88, 89, 93, 95, 96, 98, 99, 99]"
   ]
  },
  {
   "cell_type": "code",
   "execution_count": 171,
   "id": "8f8d8314-a713-469c-ae88-18f024145c34",
   "metadata": {},
   "outputs": [
    {
     "data": {
      "text/plain": [
       "25"
      ]
     },
     "execution_count": 171,
     "metadata": {},
     "output_type": "execute_result"
    }
   ],
   "source": [
    "len(list1)"
   ]
  },
  {
   "cell_type": "code",
   "execution_count": 172,
   "id": "227eab98-3bdd-4f1b-b328-0fbc2f1d903d",
   "metadata": {},
   "outputs": [
    {
     "data": {
      "text/plain": [
       "99"
      ]
     },
     "execution_count": 172,
     "metadata": {},
     "output_type": "execute_result"
    }
   ],
   "source": [
    "max(list1)"
   ]
  },
  {
   "cell_type": "code",
   "execution_count": 173,
   "id": "6c2ce046-2f8c-43b9-80d7-f748016918e0",
   "metadata": {},
   "outputs": [
    {
     "data": {
      "text/plain": [
       "43"
      ]
     },
     "execution_count": 173,
     "metadata": {},
     "output_type": "execute_result"
    }
   ],
   "source": [
    "\n",
    "min(list1)"
   ]
  },
  {
   "cell_type": "code",
   "execution_count": 174,
   "id": "7c27227b-b013-4910-ab9d-797c967a4a26",
   "metadata": {},
   "outputs": [
    {
     "data": {
      "text/plain": [
       "76.96"
      ]
     },
     "execution_count": 174,
     "metadata": {},
     "output_type": "execute_result"
    }
   ],
   "source": [
    "import statistics \n",
    "\n",
    "statistics.mean(list1)"
   ]
  },
  {
   "cell_type": "code",
   "execution_count": 175,
   "id": "e4cce065-035c-487b-a45b-626836218e56",
   "metadata": {},
   "outputs": [
    {
     "data": {
      "text/plain": [
       "[43,\n",
       " 54,\n",
       " 56,\n",
       " 61,\n",
       " 62,\n",
       " 66,\n",
       " 68,\n",
       " 69,\n",
       " 69,\n",
       " 70,\n",
       " 71,\n",
       " 72,\n",
       " 77,\n",
       " 78,\n",
       " 79,\n",
       " 85,\n",
       " 87,\n",
       " 88,\n",
       " 89,\n",
       " 93,\n",
       " 95,\n",
       " 96,\n",
       " 98,\n",
       " 99,\n",
       " 99]"
      ]
     },
     "execution_count": 175,
     "metadata": {},
     "output_type": "execute_result"
    }
   ],
   "source": [
    "sorted(list1)"
   ]
  },
  {
   "cell_type": "markdown",
   "id": "f297ed82-7d02-4593-b08d-a13821a656ed",
   "metadata": {},
   "source": [
    "To find the 90th percentile for these (ordered) scores, start by multiplying 90 percent times the total number of scores, which gives 90% ∗ 25 = 0.90 ∗ 25 = 22.5 (the index). Rounding up to the nearest whole number, you get 23."
   ]
  },
  {
   "cell_type": "code",
   "execution_count": 176,
   "id": "53912812-80ba-427d-bb71-348f23f4942d",
   "metadata": {},
   "outputs": [],
   "source": [
    "list2 = sorted(list1)"
   ]
  },
  {
   "cell_type": "code",
   "execution_count": 177,
   "id": "60bd1e0a-b3a8-4c02-969c-e085c7b41749",
   "metadata": {},
   "outputs": [
    {
     "data": {
      "text/plain": [
       "[43,\n",
       " 54,\n",
       " 56,\n",
       " 61,\n",
       " 62,\n",
       " 66,\n",
       " 68,\n",
       " 69,\n",
       " 69,\n",
       " 70,\n",
       " 71,\n",
       " 72,\n",
       " 77,\n",
       " 78,\n",
       " 79,\n",
       " 85,\n",
       " 87,\n",
       " 88,\n",
       " 89,\n",
       " 93,\n",
       " 95,\n",
       " 96,\n",
       " 98,\n",
       " 99,\n",
       " 99]"
      ]
     },
     "execution_count": 177,
     "metadata": {},
     "output_type": "execute_result"
    }
   ],
   "source": [
    "list2"
   ]
  },
  {
   "cell_type": "markdown",
   "id": "959f908c-df81-4e1d-b056-85a0d7a4e971",
   "metadata": {},
   "source": [
    "Hence, 98 is the 90th percentile for this dataset"
   ]
  },
  {
   "cell_type": "markdown",
   "id": "87cceeec-6613-485c-98f4-f1eb6c3d05ad",
   "metadata": {},
   "source": [
    "Now say you want to find the 20th percentile. Start by taking 0.20 x 25 = 5 (the index); this is a whole number, which tells you the 20th percentile is the average of the 5th and 6th values in the ordered data set (62 and 66).\n",
    "\n",
    "so, 20th percentile is 62+66/2 = 64\n",
    "\n",
    "The median (the 50th percentile) for the test scores is the 13th score: 77."
   ]
  },
  {
   "cell_type": "code",
   "execution_count": null,
   "id": "f70a56b9-ac64-40b4-9de6-4f4a6d19bc4b",
   "metadata": {},
   "outputs": [],
   "source": []
  }
 ],
 "metadata": {
  "kernelspec": {
   "display_name": "Python 3 (ipykernel)",
   "language": "python",
   "name": "python3"
  },
  "language_info": {
   "codemirror_mode": {
    "name": "ipython",
    "version": 3
   },
   "file_extension": ".py",
   "mimetype": "text/x-python",
   "name": "python",
   "nbconvert_exporter": "python",
   "pygments_lexer": "ipython3",
   "version": "3.12.4"
  }
 },
 "nbformat": 4,
 "nbformat_minor": 5
}
